{
 "cells": [
  {
   "cell_type": "code",
   "execution_count": 1,
   "metadata": {
    "collapsed": false
   },
   "outputs": [
    {
     "name": "stdout",
     "output_type": "stream",
     "text": [
      "Sebastian Raschka \n",
      "Last updated: 10/14/2015 \n"
     ]
    }
   ],
   "source": [
    "%load_ext watermark\n",
    "%watermark -a 'Sebastian Raschka' -d -u"
   ]
  },
  {
   "cell_type": "markdown",
   "metadata": {},
   "source": [
    "<br>\n",
    "<br>"
   ]
  },
  {
   "cell_type": "markdown",
   "metadata": {},
   "source": [
    "# Logistic Regression"
   ]
  },
  {
   "cell_type": "markdown",
   "metadata": {},
   "source": [
    "hypothesis: $h_{\\theta}(x) = g(\\theta^T x)$"
   ]
  },
  {
   "cell_type": "markdown",
   "metadata": {},
   "source": [
    "sigmoid function: $g(z) = \\frac{1}{1 + e^{-z}}$"
   ]
  },
  {
   "cell_type": "markdown",
   "metadata": {},
   "source": [
    "$0 \\ge h_{\\theta}(x) \\le 1$ "
   ]
  },
  {
   "cell_type": "markdown",
   "metadata": {},
   "source": [
    "$h_{\\theta}(x) = g(\\theta^T x) = \\frac{1}{1 + e^{-\\theta^T x}}$ can be interpreted as the posterior probability. For classification\n",
    "use step function:  \n",
    "$h_{\\theta}(x) \\le 0.5 \\rightarrow 0$   \n",
    "$h_{\\theta}(x) > 0.5 \\rightarrow 1$ "
   ]
  },
  {
   "cell_type": "markdown",
   "metadata": {},
   "source": [
    "$h_{\\theta}(x):  \\theta_1 x_1 + \\dots + \\theta_n x_n >  \\theta_0$\n",
    "\n",
    "equivalent to \n",
    "\n",
    "$h_{\\theta}(x) = -\\theta_0 + \\theta_1 x_1 + \\dots + \\theta_n x_n > 0$"
   ]
  },
  {
   "cell_type": "markdown",
   "metadata": {},
   "source": [
    "Linear Regression Cost function (gradiend descent):\n",
    "    \n",
    "$J(\\theta) = \\frac{1}{2m} \\sum (h_{\\theta}(x^{(i)}) - y)^2$\n",
    "\n",
    "Now using  $\\frac{1}{1 + e^{-\\theta^T x}}$ (not convex anymore)"
   ]
  },
  {
   "cell_type": "markdown",
   "metadata": {},
   "source": [
    "### Sigmoid"
   ]
  },
  {
   "cell_type": "code",
   "execution_count": 2,
   "metadata": {
    "collapsed": false
   },
   "outputs": [
    {
     "name": "stderr",
     "output_type": "stream",
     "text": [
      "/usr/local/lib/python2.7/dist-packages/ipykernel/__main__.py:4: RuntimeWarning: overflow encountered in exp\n"
     ]
    }
   ],
   "source": [
    "import numpy as np\n",
    "\n",
    "def sigmoid(z):\n",
    "    return 1/(1 + np.exp(-z))\n",
    "\n",
    "assert(sigmoid(0) == 0.5)\n",
    "assert(sigmoid(10000) == 1.0)\n",
    "assert(sigmoid(-10000) == 0.0)"
   ]
  },
  {
   "cell_type": "code",
   "execution_count": 5,
   "metadata": {
    "collapsed": false
   },
   "outputs": [
    {
     "data": {
      "image/png": "[encoded data removed]",
      "text/plain": [
       "<matplotlib.figure.Figure at 0x3fff663eced0>"
      ]
     },
     "metadata": {},
     "output_type": "display_data"
    }
   ],
   "source": [
    "%matplotlib inline\n",
    "import matplotlib.pyplot as plt\n",
    "plt.plot(np.arange(-10, 10, 0.5), [sigmoid(z) for z in np.arange(-10, 10, 0.5)])\n",
    "plt.show()"
   ]
  },
  {
   "cell_type": "markdown",
   "metadata": {},
   "source": [
    "### Cost Function and Gradient"
   ]
  },
  {
   "cell_type": "markdown",
   "metadata": {},
   "source": [
    "$J(\\theta) = \\frac{1}{m} \\sum^{m}_{i=1} \\big[ -y^{(i)} log(h_{\\theta}(x^{(i)})) - (1-y^{(i)})log(1-h_{\\theta}(x^{(i)}))  \\big]$"
   ]
  },
  {
   "cell_type": "markdown",
   "metadata": {},
   "source": [
    "$\\frac{\\partial J(\\theta)}{\\partial \\theta_j} = \\frac{1}{m} \\sum_{i=1}^{m}(h_\\theta(x^{(i)}) - y^{(i)}) x^{(i)}_j$"
   ]
  },
  {
   "cell_type": "markdown",
   "metadata": {},
   "source": [
    "### Update Rule"
   ]
  },
  {
   "cell_type": "markdown",
   "metadata": {},
   "source": [
    "$\\theta_j := \\theta_j - \\alpha \\sum_{i=1}^{m}(h_\\theta(x^{(i)}) - y^{(i)}) x^{(i)}_j$"
   ]
  },
  {
   "cell_type": "markdown",
   "metadata": {},
   "source": [
    "## Regularization"
   ]
  },
  {
   "cell_type": "markdown",
   "metadata": {},
   "source": [
    "$$J(\\theta) = \\frac{1}{m} \\sum^{m}_{i=1} \\big[ -y^{(i)} \\\n",
    "log(h_{\\theta}(x^{(i)})) - \\\n",
    "(1-y^{(i)})log(1-h_{\\theta}(x^{(i)}))  \\big]\\\n",
    "%regularize\\\n",
    "+ \\frac{\\lambda}{2m} \\sum_{j=1}^{n} \\theta^2_j$$"
   ]
  },
  {
   "cell_type": "markdown",
   "metadata": {},
   "source": [
    "Do not regularize $\\theta_0$"
   ]
  },
  {
   "cell_type": "markdown",
   "metadata": {},
   "source": [
    "$$\\frac{\\partial J(\\theta)}{\\partial \\theta_0} = \\frac{1}{m} \\sum_{i=1}^{m}(h_\\theta(x^{(i)}) - y^{(i)}) x^{(i)}_j \\\n",
    "\\quad \\quad \\text{for } j = 0$$\n",
    "\n",
    "$$\\frac{\\partial J(\\theta)}{\\partial \\theta_j} = \\frac{1}{m} \\sum_{i=1}^{m}(h_\\theta(x^{(i)}) - y^{(i)}) x^{(i)}_j \\\n",
    "+ \\frac{\\lambda}{m} \\theta_j \\\n",
    "\\quad \\quad \\text{for } j \\ge 1$$"
   ]
  },
  {
   "cell_type": "code",
   "execution_count": 6,
   "metadata": {
    "collapsed": false
   },
   "outputs": [],
   "source": [
    "# Sebastian Raschka 2015\n",
    "# mlxtend Machine Learning Library Extensions\n",
    "\n",
    "\n",
    "import numpy as np\n",
    "\n",
    "class LogisticRegression(object):\n",
    "    \"\"\"Logistic regression classifier.\n",
    "\n",
    "    Parameters\n",
    "    ------------\n",
    "    eta : float\n",
    "      Learning rate (between 0.0 and 1.0)\n",
    "\n",
    "    epochs : int\n",
    "      Passes over the training dataset.\n",
    "\n",
    "    learning : str (default: sgd)\n",
    "      Learning rule, sgd (stochastic gradient descent)\n",
    "      or gd (gradient descent).\n",
    "\n",
    "    lambda_ : float\n",
    "      Regularization parameter for L2 regularization.\n",
    "      No regularization if lambda_=0.0.\n",
    "\n",
    "    Attributes\n",
    "    -----------\n",
    "    w_ : 1d-array\n",
    "      Weights after fitting.\n",
    "\n",
    "    cost_ : list\n",
    "      List of floats with sum of squared error cost (sgd or gd) for every\n",
    "      epoch.\n",
    "\n",
    "    \"\"\"\n",
    "    def __init__(self, eta=0.01, epochs=50, lambda_=0.0, learning='sgd'):\n",
    "        self.eta = eta\n",
    "        self.epochs = epochs\n",
    "        self.lambda_ = lambda_\n",
    "\n",
    "        if not learning in ('sgd', 'gd'):\n",
    "            raise ValueError('learning must be sgd or gd')\n",
    "        self.learning = learning\n",
    "\n",
    "\n",
    "    def fit(self, X, y, init_weights=None):\n",
    "        \"\"\" Fit training data.\n",
    "\n",
    "        Parameters\n",
    "        ----------\n",
    "        X : {array-like, sparse matrix}, shape = [n_samples, n_features]\n",
    "            Training vectors, where n_samples is the number of samples and\n",
    "            n_features is the number of features.\n",
    "\n",
    "        y : array-like, shape = [n_samples]\n",
    "            Target values.\n",
    "\n",
    "        init_weights : array-like, shape = [n_features + 1]\n",
    "            Initial weights for the classifier. If None, weights\n",
    "            are initialized to 0.\n",
    "\n",
    "        Returns\n",
    "        -------\n",
    "        self : object\n",
    "\n",
    "        \"\"\"\n",
    "        if not len(X.shape) == 2:\n",
    "            raise ValueError('X must be a 2D array. Try X[:,np.newaxis]')\n",
    "\n",
    "        if (np.unique(y) != np.array([0, 1])).all():\n",
    "            raise ValueError('Supports only binary class labels 0 and 1')\n",
    "\n",
    "        if not isinstance(init_weights, np.ndarray):\n",
    "        # Initialize weights to 0\n",
    "            self.w_ = np.zeros(1 + X.shape[1])\n",
    "        else:\n",
    "            self.w_ = init_weights\n",
    "\n",
    "        self.cost_ = []\n",
    "\n",
    "        for i in range(self.epochs):\n",
    "\n",
    "            if self.learning == 'gd':\n",
    "                y_val = self.activation(X)\n",
    "                errors = (y - y_val)\n",
    "                regularize = self.lambda_ * self.w_[1:]\n",
    "                self.w_[1:] += self.eta * X.T.dot(errors)\n",
    "                self.w_[1:] += regularize\n",
    "                self.w_[0] += self.eta * errors.sum()\n",
    "\n",
    "            elif self.learning == 'sgd':\n",
    "                cost = 0.0\n",
    "                for xi, yi in zip(X, y):\n",
    "                    yi_val = self.activation(xi)\n",
    "                    error = (yi - yi_val)\n",
    "                    regularize = self.lambda_ * self.w_[1:]\n",
    "                    self.w_[1:] += self.eta * xi.dot(error)\n",
    "                    self.w_[1:] += regularize\n",
    "                    self.w_[0] += self.eta * error\n",
    "\n",
    "            self.cost_.append(self._logit_cost(y, self.activation(X)))\n",
    "        return self\n",
    "\n",
    "\n",
    "    def predict(self, X):\n",
    "        \"\"\"\n",
    "        Predict class labels for X.\n",
    "\n",
    "        Parameters\n",
    "        ----------\n",
    "        X : {array-like, sparse matrix}, shape = [n_samples, n_features]\n",
    "            Training vectors, where n_samples is the number of samples and\n",
    "            n_features is the number of features.\n",
    "\n",
    "        Returns\n",
    "        ----------\n",
    "        class : int\n",
    "          Predicted class label.\n",
    "\n",
    "        \"\"\"\n",
    "        # equivalent to np.where(self.activation(X) >= 0.5, 1, 0)\n",
    "        return np.where(self.net_input(X) >= 0.0, 1, 0)\n",
    "\n",
    "\n",
    "    def net_input(self, X):\n",
    "        \"\"\" Net input function. \"\"\"\n",
    "        return X.dot(self.w_[1:]) + self.w_[0]\n",
    "\n",
    "\n",
    "    def activation(self, X):\n",
    "        \"\"\"\n",
    "        Predict class probabilities for X.\n",
    "\n",
    "        Parameters\n",
    "        ----------\n",
    "        X : {array-like, sparse matrix}, shape = [n_samples, n_features]\n",
    "            Training vectors, where n_samples is the number of samples and\n",
    "            n_features is the number of features.\n",
    "\n",
    "        Returns\n",
    "        ----------\n",
    "        int\n",
    "          Class probability.\n",
    "\n",
    "        \"\"\"\n",
    "        z = self.net_input(X)\n",
    "        return self._sigmoid(z)\n",
    "\n",
    "\n",
    "    def _logit_cost(self, y, y_val):\n",
    "        logit = -y.dot(np.log(y_val)) - ((1 - y).dot(np.log(1 - y_val)))\n",
    "        regularize = (self.lambda_ / 2) * self.w_[1:].dot(self.w_[1:])\n",
    "        return logit + regularize\n",
    "\n",
    "\n",
    "    def _sigmoid(self, z):\n",
    "         return 1.0 / (1.0 + np.exp(-z))"
   ]
  },
  {
   "cell_type": "markdown",
   "metadata": {},
   "source": [
    "## Iris example"
   ]
  },
  {
   "cell_type": "code",
   "execution_count": 7,
   "metadata": {
    "collapsed": false
   },
   "outputs": [
    {
     "data": {
      "image/png": "[encoded data removed]",
      "text/plain": [
       "<matplotlib.figure.Figure at 0x3fff6439a8d0>"
      ]
     },
     "metadata": {},
     "output_type": "display_data"
    }
   ],
   "source": [
    "import matplotlib.pyplot as plt\n",
    "%matplotlib inline\n",
    "import sys\n",
    "import pandas as pd\n",
    "import numpy as np\n",
    "\n",
    "sys.path = ['/Users/sebastian/github/mlxtend/'] + sys.path\n",
    "from mlxtend.evaluate import plot_decision_regions\n",
    "\n",
    "\n",
    "df = pd.read_csv('https://archive.ics.uci.edu/ml/machine-learning-databases/iris/iris.data', header=None)\n",
    "\n",
    "# setosa and versicolor\n",
    "y = df.iloc[0:100, 4].values\n",
    "y = np.where(y == 'Iris-setosa', 0, 1)\n",
    "\n",
    "# sepal length and petal length\n",
    "X = df.iloc[0:100, [0,2]].values\n",
    "\n",
    "# standardize features\n",
    "X_std = np.copy(X)\n",
    "X_std[:,0] = (X[:,0] - X[:,0].mean()) / X[:,0].std()\n",
    "X_std[:,1] = (X[:,1] - X[:,1].mean()) / X[:,1].std()\n",
    "\n",
    "lr = LogisticRegression(eta=0.1, epochs=100)\n",
    "lr.fit(X_std, y)\n",
    "\n",
    "plot_decision_regions(X_std, y, clf=lr, res=0.02)"
   ]
  },
  {
   "cell_type": "code",
   "execution_count": 8,
   "metadata": {
    "collapsed": false
   },
   "outputs": [
    {
     "data": {
      "image/png": "[encoded data removed]",
      "text/plain": [
       "<matplotlib.figure.Figure at 0x3fff6535bd50>"
      ]
     },
     "metadata": {},
     "output_type": "display_data"
    }
   ],
   "source": [
    "plt.plot(range(len(lr.cost_)), lr.cost_)\n",
    "plt.xlabel('Iterations')\n",
    "plt.ylabel('Cost')\n",
    "plt.title('Stochastic Gradient Descent')\n",
    "#plt.text(40, 45, 'eta = 0.01')\n",
    "plt.show()"
   ]
  },
  {
   "cell_type": "code",
   "execution_count": null,
   "metadata": {
    "collapsed": true
   },
   "outputs": [],
   "source": []
  }
 ],
 "metadata": {
  "kernelspec": {
   "display_name": "Python 2",
   "language": "python",
   "name": "python2"
  },
  "language_info": {
   "codemirror_mode": {
    "name": "ipython",
    "version": 2
   },
   "file_extension": ".py",
   "mimetype": "text/x-python",
   "name": "python",
   "nbconvert_exporter": "python",
   "pygments_lexer": "ipython2",
   "version": "2.7.9"
  }
 },
 "nbformat": 4,
 "nbformat_minor": 0
}
