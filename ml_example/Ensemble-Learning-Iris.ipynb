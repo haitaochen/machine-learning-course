{
 "cells": [
  {
   "cell_type": "markdown",
   "metadata": {},
   "source": [
    "# Ensemble Learning with Iris\n",
    "\n",
    "Analytics Vidhya threw open a data hackathon for the 8th and 9th August weekend.\n",
    "Details can be found [here](http://discuss.analyticsvidhya.com/t/online-hackathon-3-0-find-the-next-brain-wong/2838)\n",
    "This is my attempt to generate some benchmarks - with no(to minimal) feature engineering"
   ]
  },
  {
   "cell_type": "code",
   "execution_count": 1,
   "metadata": {
    "collapsed": true
   },
   "outputs": [],
   "source": [
    "#Import the necessary libraries\n",
    "import numpy as np\n",
    "import pandas as pd\n",
    "from sklearn import preprocessing\n",
    "from sklearn.feature_extraction import DictVectorizer\n",
    "import xgboost as xgb\n",
    "from sklearn.ensemble import RandomForestClassifier\n",
    "from sklearn.ensemble import RandomForestRegressor\n",
    "from sklearn.ensemble import ExtraTreesClassifier\n",
    "from sklearn.ensemble import ExtraTreesRegressor\n",
    "from sklearn import linear_model\n",
    "from sklearn.kernel_ridge import KernelRidge\n",
    "from sklearn.svm import SVR\n",
    "from sklearn.datasets import load_iris\n",
    "from sklearn.cross_validation import train_test_split"
   ]
  },
  {
   "cell_type": "code",
   "execution_count": 2,
   "metadata": {
    "collapsed": false
   },
   "outputs": [],
   "source": [
    "#Read the train and test datasets\n",
    "# train = pd.read_csv(\"Data/Train.csv\")\n",
    "# test = pd.read_csv(\"Data/Test.csv\")\n",
    "iris = load_iris()\n",
    "train_data, test_data, train_target, test_target = train_test_split(\n",
    "        iris.data, iris.target, test_size=0.4, random_state=415)"
   ]
  },
  {
   "cell_type": "code",
   "execution_count": 3,
   "metadata": {
    "collapsed": false
   },
   "outputs": [
    {
     "name": "stdout",
     "output_type": "stream",
     "text": [
      "(90, 4) (60, 4)\n"
     ]
    }
   ],
   "source": [
    "print train_data.shape, test_data.shape"
   ]
  },
  {
   "cell_type": "code",
   "execution_count": 4,
   "metadata": {
    "collapsed": true
   },
   "outputs": [],
   "source": [
    "xgtrain = train_data\n",
    "xgtest = test_data\n",
    "label_pv = train_target"
   ]
  },
  {
   "cell_type": "markdown",
   "metadata": {},
   "source": [
    "\n",
    "# First Approach - Regression\n"
   ]
  },
  {
   "cell_type": "markdown",
   "metadata": {},
   "source": [
    "##First model: xgboost"
   ]
  },
  {
   "cell_type": "code",
   "execution_count": 5,
   "metadata": {
    "collapsed": true
   },
   "outputs": [],
   "source": [
    "params = {}\n",
    "params[\"min_child_weight\"] = 3\n",
    "params[\"subsample\"] = 0.7\n",
    "params[\"colsample_bytree\"] = 0.7\n",
    "params[\"scale_pos_weight\"] = 1\n",
    "params[\"silent\"] = 0\n",
    "params[\"max_depth\"] = 4\n",
    "params[\"nthread\"] = 6\n",
    "params[\"gamma\"] = 1\n",
    "params[\"objective\"] = \"reg:linear\"\n",
    "params[\"eta\"] = 0.005\n",
    "params[\"base_score\"] = 0.1\n",
    "params[\"eval_metric\"] = \"auc\"\n",
    "params[\"seed\"] = 123"
   ]
  },
  {
   "cell_type": "code",
   "execution_count": 6,
   "metadata": {
    "collapsed": true
   },
   "outputs": [],
   "source": [
    "plst = list(params.items())\n",
    "num_rounds = 600"
   ]
  },
  {
   "cell_type": "code",
   "execution_count": 7,
   "metadata": {
    "collapsed": true
   },
   "outputs": [],
   "source": [
    "xgtrain_pv = xgb.DMatrix(xgtrain, label=label_pv)\n",
    "watchlist = [(xgtrain_pv, 'train')]\n",
    "model_1_xgboost = xgb.train(plst, xgtrain_pv, num_rounds)\n",
    "model_1_predict = model_1_xgboost.predict(xgb.DMatrix(xgtest))"
   ]
  },
  {
   "cell_type": "code",
   "execution_count": 8,
   "metadata": {
    "collapsed": false
   },
   "outputs": [
    {
     "data": {
      "text/plain": [
       "array([ 0.13755664,  1.53150272,  0.94632232,  1.73526251,  1.51423669,\n",
       "        0.13536169,  1.78053868,  0.98128557,  1.00947142,  1.20258307,\n",
       "        0.13536169,  0.12651075,  1.56973004,  0.13536169,  1.17833805,\n",
       "        0.81763804,  0.81763804,  0.12651075,  0.84986347,  0.13536169,\n",
       "        1.11069334,  1.78938961,  0.84986347,  0.2625584 ,  0.12651075,\n",
       "        0.84986347,  1.78053868,  0.1413871 ,  0.82508171,  0.12651075,\n",
       "        1.78053868,  0.95534474,  0.12651075,  0.82459211,  0.13536169,\n",
       "        0.81763804,  0.84986347,  0.12651075,  1.78938961,  0.12651075,\n",
       "        1.78938961,  0.13536169,  1.01883912,  0.12651075,  0.13536169,\n",
       "        1.7523526 ,  0.1347426 ,  1.47047174,  0.2625584 ,  1.73526251,\n",
       "        0.12651075,  1.78053868,  1.50741839,  0.12589167,  1.78709161,\n",
       "        0.12651075,  0.13253616,  1.78709161,  1.78938961,  0.93506271], dtype=float32)"
      ]
     },
     "execution_count": 8,
     "metadata": {},
     "output_type": "execute_result"
    }
   ],
   "source": [
    "model_1_predict"
   ]
  },
  {
   "cell_type": "code",
   "execution_count": 9,
   "metadata": {
    "collapsed": false
   },
   "outputs": [
    {
     "data": {
      "text/plain": [
       "array([0, 2, 1, 2, 2, 0, 2, 1, 1, 1, 0, 0, 2, 0, 1, 1, 1, 0, 1, 0, 1, 2, 1,\n",
       "       0, 0, 1, 2, 0, 1, 0, 2, 1, 0, 1, 0, 1, 1, 0, 2, 0, 2, 0, 1, 0, 0, 2,\n",
       "       0, 1, 0, 2, 0, 2, 2, 0, 2, 0, 0, 2, 2, 1])"
      ]
     },
     "execution_count": 9,
     "metadata": {},
     "output_type": "execute_result"
    }
   ],
   "source": [
    "model_1_predict = np.array([int(round(item)) for item in model_1_predict])\n",
    "model_1_predict"
   ]
  },
  {
   "cell_type": "code",
   "execution_count": 10,
   "metadata": {
    "collapsed": false
   },
   "outputs": [
    {
     "data": {
      "text/plain": [
       "array([0, 2, 1, 2, 2, 0, 2, 1, 1, 2, 0, 0, 2, 0, 1, 1, 1, 0, 1, 0, 1, 2, 1,\n",
       "       0, 0, 1, 2, 0, 1, 0, 2, 1, 0, 1, 0, 1, 1, 0, 2, 0, 2, 0, 1, 0, 0, 2,\n",
       "       0, 1, 0, 2, 0, 2, 2, 0, 2, 0, 0, 2, 2, 1])"
      ]
     },
     "execution_count": 10,
     "metadata": {},
     "output_type": "execute_result"
    }
   ],
   "source": [
    "test_target"
   ]
  },
  {
   "cell_type": "code",
   "execution_count": 11,
   "metadata": {
    "collapsed": false
   },
   "outputs": [
    {
     "name": "stdout",
     "output_type": "stream",
     "text": [
      "1\n"
     ]
    }
   ],
   "source": [
    "print(np.sum(model_1_predict!=test_target))"
   ]
  },
  {
   "cell_type": "markdown",
   "metadata": {},
   "source": [
    "##Model 2: RandomForest"
   ]
  },
  {
   "cell_type": "code",
   "execution_count": 12,
   "metadata": {
    "collapsed": true
   },
   "outputs": [],
   "source": [
    "model_2_rf = RandomForestRegressor(n_estimators=400, max_depth=8, oob_score=True, n_jobs=6, random_state=123)\n",
    "model_2_rf.fit(xgtrain, label_pv)\n",
    "model_2_rf.oob_score_\n",
    "model_2_predict = model_2_rf.predict(xgtest)"
   ]
  },
  {
   "cell_type": "code",
   "execution_count": 13,
   "metadata": {
    "collapsed": false
   },
   "outputs": [
    {
     "data": {
      "text/plain": [
       "array([0, 2, 1, 2, 2, 0, 2, 1, 1, 1, 0, 0, 2, 0, 1, 1, 1, 0, 1, 0, 1, 2, 1,\n",
       "       0, 0, 1, 2, 0, 1, 0, 2, 1, 0, 1, 0, 1, 1, 0, 2, 0, 2, 0, 1, 0, 0, 2,\n",
       "       0, 2, 0, 2, 0, 2, 2, 0, 2, 0, 0, 2, 2, 1])"
      ]
     },
     "execution_count": 13,
     "metadata": {},
     "output_type": "execute_result"
    }
   ],
   "source": [
    "model_2_predict = np.array([int(round(item)) for item in model_2_predict])\n",
    "model_2_predict"
   ]
  },
  {
   "cell_type": "code",
   "execution_count": 14,
   "metadata": {
    "collapsed": false
   },
   "outputs": [
    {
     "name": "stdout",
     "output_type": "stream",
     "text": [
      "2\n"
     ]
    }
   ],
   "source": [
    "print(np.sum(model_2_predict!=test_target))"
   ]
  },
  {
   "cell_type": "markdown",
   "metadata": {},
   "source": [
    "##Model 3: ExtraTrees"
   ]
  },
  {
   "cell_type": "code",
   "execution_count": 15,
   "metadata": {
    "collapsed": false
   },
   "outputs": [
    {
     "name": "stderr",
     "output_type": "stream",
     "text": [
      "[Parallel(n_jobs=6)]: Done   1 out of 750 | elapsed:    0.1s remaining:   39.8s\n",
      "[Parallel(n_jobs=6)]: Done 750 out of 750 | elapsed:    0.5s finished\n",
      "[Parallel(n_jobs=6)]: Done   1 out of   9 | elapsed:    0.0s remaining:    0.0s\n",
      "[Parallel(n_jobs=6)]: Done 750 out of 750 | elapsed:    0.3s finished\n"
     ]
    }
   ],
   "source": [
    "model_3_et = ExtraTreesRegressor(n_estimators=750, max_depth=8, oob_score=True, n_jobs=6, random_state=123, verbose=1, bootstrap=True)\n",
    "model_3_et.fit(xgtrain, label_pv)\n",
    "model_3_predict = model_3_et.predict(xgtest)"
   ]
  },
  {
   "cell_type": "code",
   "execution_count": 17,
   "metadata": {
    "collapsed": false
   },
   "outputs": [
    {
     "data": {
      "text/plain": [
       "array([0, 2, 1, 2, 2, 0, 2, 1, 1, 1, 0, 0, 2, 0, 1, 1, 1, 0, 1, 0, 1, 2, 1,\n",
       "       0, 0, 1, 2, 0, 1, 0, 2, 1, 0, 1, 0, 1, 1, 0, 2, 0, 2, 0, 1, 0, 0, 2,\n",
       "       0, 2, 0, 2, 0, 2, 2, 0, 2, 0, 0, 2, 2, 1])"
      ]
     },
     "execution_count": 17,
     "metadata": {},
     "output_type": "execute_result"
    }
   ],
   "source": [
    "model_3_predict = np.array([int(round(item)) for item in model_3_predict])\n",
    "model_3_predict"
   ]
  },
  {
   "cell_type": "code",
   "execution_count": 18,
   "metadata": {
    "collapsed": false
   },
   "outputs": [
    {
     "name": "stdout",
     "output_type": "stream",
     "text": [
      "2\n"
     ]
    }
   ],
   "source": [
    "print(np.sum(model_3_predict!=test_target))"
   ]
  },
  {
   "cell_type": "markdown",
   "metadata": {},
   "source": [
    "##Model 7: Ridge"
   ]
  },
  {
   "cell_type": "code",
   "execution_count": 19,
   "metadata": {
    "collapsed": true
   },
   "outputs": [],
   "source": [
    "model_7_ridge = linear_model.Ridge(alpha=0.01)\n",
    "model_7_ridge.fit(xgtrain, label_pv)\n",
    "model_7_predict = model_7_ridge.predict(xgtest)"
   ]
  },
  {
   "cell_type": "code",
   "execution_count": 20,
   "metadata": {
    "collapsed": false
   },
   "outputs": [
    {
     "data": {
      "text/plain": [
       "array([0, 2, 1, 2, 2, 0, 2, 1, 1, 1, 0, 0, 2, 0, 1, 1, 1, 0, 1, 0, 1, 2, 1,\n",
       "       0, 0, 1, 2, 0, 1, 0, 2, 1, 0, 1, 0, 1, 1, 0, 2, 0, 2, 0, 1, 0, 0, 2,\n",
       "       0, 2, 0, 2, 0, 2, 2, 0, 2, 0, 0, 2, 2, 1])"
      ]
     },
     "execution_count": 20,
     "metadata": {},
     "output_type": "execute_result"
    }
   ],
   "source": [
    "model_7_predict = np.array([int(round(item)) for item in model_7_predict])\n",
    "model_7_predict"
   ]
  },
  {
   "cell_type": "code",
   "execution_count": 21,
   "metadata": {
    "collapsed": false
   },
   "outputs": [
    {
     "name": "stdout",
     "output_type": "stream",
     "text": [
      "2\n"
     ]
    }
   ],
   "source": [
    "print(np.sum(model_7_predict!=test_target))"
   ]
  },
  {
   "cell_type": "code",
   "execution_count": null,
   "metadata": {
    "collapsed": true
   },
   "outputs": [],
   "source": [
    "#rmse of 505.99"
   ]
  },
  {
   "cell_type": "markdown",
   "metadata": {},
   "source": [
    "##Model 8: Lasso"
   ]
  },
  {
   "cell_type": "code",
   "execution_count": 26,
   "metadata": {
    "collapsed": false
   },
   "outputs": [],
   "source": [
    "model_8_lasso = linear_model.Lasso()\n",
    "model_8_lasso.fit(xgtrain, label_pv)\n",
    "model_8_predict = model_8_lasso.predict(xgtest)"
   ]
  },
  {
   "cell_type": "code",
   "execution_count": 28,
   "metadata": {
    "collapsed": false
   },
   "outputs": [
    {
     "data": {
      "text/plain": [
       "array([1, 1, 1, 1, 1, 1, 1, 1, 1, 1, 1, 1, 1, 1, 1, 1, 1, 1, 1, 1, 1, 1, 1,\n",
       "       1, 1, 1, 1, 1, 1, 1, 1, 1, 1, 1, 1, 1, 1, 1, 1, 1, 1, 1, 1, 1, 1, 1,\n",
       "       1, 1, 1, 1, 1, 1, 1, 1, 1, 1, 1, 1, 1, 1])"
      ]
     },
     "execution_count": 28,
     "metadata": {},
     "output_type": "execute_result"
    }
   ],
   "source": [
    "model_8_predict = np.array([int(round(item)) for item in model_8_predict])\n",
    "model_8_predict"
   ]
  },
  {
   "cell_type": "code",
   "execution_count": 29,
   "metadata": {
    "collapsed": false
   },
   "outputs": [
    {
     "name": "stdout",
     "output_type": "stream",
     "text": [
      "42\n"
     ]
    }
   ],
   "source": [
    "print(np.sum(model_8_predict!=test_target))"
   ]
  },
  {
   "cell_type": "code",
   "execution_count": 51,
   "metadata": {
    "collapsed": true
   },
   "outputs": [],
   "source": [
    "#rmse of 498"
   ]
  },
  {
   "cell_type": "markdown",
   "metadata": {},
   "source": [
    "##Model 9: SGD Regressor"
   ]
  },
  {
   "cell_type": "code",
   "execution_count": 30,
   "metadata": {
    "collapsed": false
   },
   "outputs": [
    {
     "data": {
      "text/plain": [
       "array([0, 2, 1, 2, 1, 0, 2, 1, 1, 2, 0, 0, 1, 0, 1, 1, 1, 0, 1, 0, 1, 2, 1,\n",
       "       0, 0, 1, 2, 0, 1, 0, 2, 1, 0, 1, 0, 1, 1, 0, 2, 0, 2, 0, 1, 0, 0, 2,\n",
       "       0, 2, 0, 2, 0, 2, 2, 0, 2, 0, 0, 2, 2, 1])"
      ]
     },
     "execution_count": 30,
     "metadata": {},
     "output_type": "execute_result"
    }
   ],
   "source": [
    "model_9_sgd = linear_model.SGDRegressor()\n",
    "model_9_sgd.fit(xgtrain, label_pv)\n",
    "model_9_predict = model_9_sgd.predict(xgtest)\n",
    "\n",
    "model_9_predict = np.array([int(round(item)) for item in model_9_predict])\n",
    "model_9_predict"
   ]
  },
  {
   "cell_type": "code",
   "execution_count": 31,
   "metadata": {
    "collapsed": false
   },
   "outputs": [
    {
     "name": "stdout",
     "output_type": "stream",
     "text": [
      "3\n"
     ]
    }
   ],
   "source": [
    "print(np.sum(model_9_predict!=test_target))"
   ]
  },
  {
   "cell_type": "code",
   "execution_count": null,
   "metadata": {
    "collapsed": true
   },
   "outputs": [],
   "source": [
    "#Omit this model. Horrible output"
   ]
  },
  {
   "cell_type": "markdown",
   "metadata": {},
   "source": [
    "##Model 10: Perceptron"
   ]
  },
  {
   "cell_type": "code",
   "execution_count": 32,
   "metadata": {
    "collapsed": false
   },
   "outputs": [
    {
     "data": {
      "text/plain": [
       "array([1, 2, 1, 2, 2, 1, 2, 1, 1, 2, 0, 0, 2, 1, 1, 1, 1, 0, 1, 1, 1, 2, 1,\n",
       "       0, 0, 1, 2, 0, 1, 0, 1, 1, 1, 1, 0, 1, 1, 1, 2, 1, 2, 1, 1, 0, 1, 2,\n",
       "       1, 2, 0, 2, 0, 2, 1, 0, 2, 1, 0, 2, 2, 1])"
      ]
     },
     "execution_count": 32,
     "metadata": {},
     "output_type": "execute_result"
    }
   ],
   "source": [
    "model_10_perceptron = linear_model.Perceptron(penalty=\"l1\", n_iter=250, random_state=123, n_jobs=6)\n",
    "model_10_perceptron.fit(xgtrain, label_pv)\n",
    "model_10_predict = model_10_perceptron.predict(xgtest)\n",
    "\n",
    "model_10_predict = np.array([int(round(item)) for item in model_10_predict])\n",
    "model_10_predict"
   ]
  },
  {
   "cell_type": "code",
   "execution_count": 33,
   "metadata": {
    "collapsed": false
   },
   "outputs": [
    {
     "name": "stdout",
     "output_type": "stream",
     "text": [
      "14\n"
     ]
    }
   ],
   "source": [
    "print(np.sum(model_10_predict!=test_target))"
   ]
  },
  {
   "cell_type": "code",
   "execution_count": null,
   "metadata": {
    "collapsed": true
   },
   "outputs": [],
   "source": [
    "#Omit this model. Takes a long time to run"
   ]
  },
  {
   "cell_type": "markdown",
   "metadata": {},
   "source": [
    "##Model 11: Kernel Ridge"
   ]
  },
  {
   "cell_type": "code",
   "execution_count": 34,
   "metadata": {
    "collapsed": false
   },
   "outputs": [
    {
     "data": {
      "text/plain": [
       "array([0, 2, 1, 2, 2, 0, 2, 1, 1, 2, 0, 0, 2, 0, 1, 1, 1, 0, 1, 0, 1, 2, 1,\n",
       "       0, 0, 1, 2, 0, 1, 0, 2, 1, 0, 1, 0, 1, 1, 0, 2, 0, 2, 0, 1, 0, 0, 2,\n",
       "       0, 2, 0, 2, 0, 2, 2, 0, 2, 0, 0, 2, 2, 1])"
      ]
     },
     "execution_count": 34,
     "metadata": {},
     "output_type": "execute_result"
    }
   ],
   "source": [
    "model_11_kr = KernelRidge(alpha=0.01, kernel='rbf', gamma=0.1)\n",
    "model_11_kr.fit(xgtrain, label_pv)\n",
    "model_11_predict = model_11_kr.predict(xgtest)\n",
    "\n",
    "model_11_predict = np.array([int(round(item)) for item in model_11_predict])\n",
    "model_11_predict"
   ]
  },
  {
   "cell_type": "code",
   "execution_count": 35,
   "metadata": {
    "collapsed": false
   },
   "outputs": [
    {
     "name": "stdout",
     "output_type": "stream",
     "text": [
      "1\n"
     ]
    }
   ],
   "source": [
    "print(np.sum(model_11_predict!=test_target))"
   ]
  },
  {
   "cell_type": "code",
   "execution_count": null,
   "metadata": {
    "collapsed": true
   },
   "outputs": [],
   "source": [
    "#rmse: 753"
   ]
  },
  {
   "cell_type": "markdown",
   "metadata": {},
   "source": [
    "#Model 12: SVR"
   ]
  },
  {
   "cell_type": "code",
   "execution_count": 36,
   "metadata": {
    "collapsed": false
   },
   "outputs": [
    {
     "data": {
      "text/plain": [
       "array([0, 2, 1, 2, 2, 0, 2, 1, 1, 2, 0, 0, 2, 0, 1, 1, 1, 0, 1, 0, 1, 2, 1,\n",
       "       0, 0, 1, 2, 0, 1, 0, 2, 1, 0, 1, 0, 1, 1, 0, 2, 0, 2, 0, 1, 0, 0, 2,\n",
       "       0, 2, 0, 2, 0, 2, 2, 0, 2, 0, 0, 2, 2, 1])"
      ]
     },
     "execution_count": 36,
     "metadata": {},
     "output_type": "execute_result"
    }
   ],
   "source": [
    "model_12_svr = KernelRidge(alpha=0.01, kernel='rbf')\n",
    "model_12_svr.fit(xgtrain, label_pv)\n",
    "model_12_predict = model_12_svr.predict(xgtest)\n",
    "\n",
    "model_12_predict = np.array([int(round(item)) for item in model_12_predict])\n",
    "model_12_predict"
   ]
  },
  {
   "cell_type": "code",
   "execution_count": 37,
   "metadata": {
    "collapsed": false
   },
   "outputs": [
    {
     "name": "stdout",
     "output_type": "stream",
     "text": [
      "1\n"
     ]
    }
   ],
   "source": [
    "print(np.sum(model_11_predict!=test_target))"
   ]
  },
  {
   "cell_type": "code",
   "execution_count": null,
   "metadata": {
    "collapsed": true
   },
   "outputs": [],
   "source": [
    "#Not going to run this - due to time constraints. Kernel ridge itself took a long time to run."
   ]
  },
  {
   "cell_type": "markdown",
   "metadata": {},
   "source": [
    "#Stacking\n",
    "\n",
    "Stacking the above 9 models to see if it produces better output"
   ]
  },
  {
   "cell_type": "code",
   "execution_count": 42,
   "metadata": {
    "collapsed": false
   },
   "outputs": [
    {
     "name": "stderr",
     "output_type": "stream",
     "text": [
      "[Parallel(n_jobs=6)]: Done   1 out of  10 | elapsed:    0.0s remaining:    0.0s\n",
      "[Parallel(n_jobs=6)]: Done 750 out of 750 | elapsed:    0.3s finished\n"
     ]
    }
   ],
   "source": [
    "feature_1 = model_1_xgboost.predict(xgb.DMatrix(xgtrain))\n",
    "feature_2 = model_2_rf.predict(xgtrain)\n",
    "feature_3 = model_3_et.predict(xgtrain)\n",
    "feature_7 = model_7_ridge.predict(xgtrain)\n",
    "feature_8 = model_8_lasso.predict(xgtrain)\n",
    "feature_9 = model_9_sgd.predict(xgtrain)\n",
    "feature_10 = model_10_perceptron.predict(xgtrain)\n",
    "feature_11 = model_11_kr.predict(xgtrain)\n",
    "feature_12 = model_12_svr.predict(xgtrain)\n"
   ]
  },
  {
   "cell_type": "code",
   "execution_count": 43,
   "metadata": {
    "collapsed": false
   },
   "outputs": [],
   "source": [
    "#Train features\n",
    "train_features = np.vstack((feature_1, feature_2, feature_3, feature_7, feature_8, feature_9, feature_10, feature_11, feature_12))\n",
    "#Need to transpose features\n",
    "train_features = train_features.T"
   ]
  },
  {
   "cell_type": "code",
   "execution_count": 45,
   "metadata": {
    "collapsed": false
   },
   "outputs": [],
   "source": [
    "#Test features\n",
    "test_features = np.vstack((model_1_predict, model_2_predict, model_3_predict, model_7_predict, model_8_predict, model_9_predict, model_10_predict, model_11_predict, model_12_predict ))\n",
    "#Need to transpose features\n",
    "test_features = test_features.T"
   ]
  },
  {
   "cell_type": "code",
   "execution_count": 57,
   "metadata": {
    "collapsed": false
   },
   "outputs": [
    {
     "data": {
      "text/plain": [
       "array([[1, 2, 3, 4]])"
      ]
     },
     "execution_count": 57,
     "metadata": {},
     "output_type": "execute_result"
    }
   ],
   "source": [
    "np.vstack((1,2,3,4)).T"
   ]
  },
  {
   "cell_type": "markdown",
   "metadata": {},
   "source": [
    "##First stack model: Extra Trees"
   ]
  },
  {
   "cell_type": "code",
   "execution_count": 46,
   "metadata": {
    "collapsed": false
   },
   "outputs": [
    {
     "name": "stderr",
     "output_type": "stream",
     "text": [
      "[Parallel(n_jobs=6)]: Done   1 out of  42 | elapsed:    0.0s remaining:    0.3s\n",
      "[Parallel(n_jobs=6)]: Done 750 out of 750 | elapsed:    0.4s finished\n",
      "[Parallel(n_jobs=6)]: Done   1 out of  19 | elapsed:    0.0s remaining:    0.0s\n",
      "[Parallel(n_jobs=6)]: Done 750 out of 750 | elapsed:    0.3s finished\n"
     ]
    }
   ],
   "source": [
    "model_13_et = ExtraTreesRegressor(n_estimators=750, max_depth=8, oob_score=True, n_jobs=6, random_state=123, verbose=1, bootstrap=True)\n",
    "model_13_et.fit(train_features, label_pv)\n",
    "model_13_predict = model_13_et.predict(test_features)"
   ]
  },
  {
   "cell_type": "code",
   "execution_count": 47,
   "metadata": {
    "collapsed": false
   },
   "outputs": [
    {
     "data": {
      "text/plain": [
       "array([0, 2, 1, 2, 2, 0, 2, 1, 1, 1, 0, 0, 2, 0, 1, 1, 1, 0, 1, 0, 1, 2, 1,\n",
       "       0, 0, 1, 2, 0, 1, 0, 2, 1, 0, 1, 0, 1, 1, 0, 2, 0, 2, 0, 1, 0, 0, 2,\n",
       "       0, 2, 0, 2, 0, 2, 2, 0, 2, 0, 0, 2, 2, 1])"
      ]
     },
     "execution_count": 47,
     "metadata": {},
     "output_type": "execute_result"
    }
   ],
   "source": [
    "model_13_predict = np.array([int(round(item)) for item in model_13_predict])\n",
    "model_13_predict"
   ]
  },
  {
   "cell_type": "code",
   "execution_count": 48,
   "metadata": {
    "collapsed": false
   },
   "outputs": [
    {
     "name": "stdout",
     "output_type": "stream",
     "text": [
      "2\n"
     ]
    }
   ],
   "source": [
    "print(np.sum(model_13_predict!=test_target))"
   ]
  },
  {
   "cell_type": "code",
   "execution_count": null,
   "metadata": {
    "collapsed": true
   },
   "outputs": [],
   "source": [
    "#rmse 696"
   ]
  },
  {
   "cell_type": "markdown",
   "metadata": {},
   "source": [
    "##Second stack model: Ridge"
   ]
  },
  {
   "cell_type": "code",
   "execution_count": 49,
   "metadata": {
    "collapsed": false
   },
   "outputs": [
    {
     "data": {
      "text/plain": [
       "array([0, 2, 1, 2, 2, 0, 2, 1, 1, 1, 0, 0, 2, 0, 1, 1, 1, 0, 1, 0, 1, 2, 1,\n",
       "       0, 0, 1, 2, 0, 1, 0, 2, 1, 0, 1, 0, 1, 1, 0, 2, 0, 2, 0, 1, 0, 0, 2,\n",
       "       0, 2, 0, 2, 0, 2, 2, 0, 2, 0, 0, 2, 2, 1])"
      ]
     },
     "execution_count": 49,
     "metadata": {},
     "output_type": "execute_result"
    }
   ],
   "source": [
    "model_14_ridge = linear_model.Ridge(alpha=0.01)\n",
    "model_14_ridge.fit(train_features, label_pv)\n",
    "model_14_predict = model_14_ridge.predict(test_features)\n",
    "model_14_predict[model_14_predict<0] = 0\n",
    "\n",
    "model_14_predict = np.array([int(round(item)) for item in model_14_predict])\n",
    "model_14_predict"
   ]
  },
  {
   "cell_type": "code",
   "execution_count": 50,
   "metadata": {
    "collapsed": false
   },
   "outputs": [
    {
     "name": "stdout",
     "output_type": "stream",
     "text": [
      "2\n"
     ]
    }
   ],
   "source": [
    "print(np.sum(model_14_predict!=test_target))"
   ]
  },
  {
   "cell_type": "code",
   "execution_count": null,
   "metadata": {
    "collapsed": false
   },
   "outputs": [],
   "source": [
    "#rmse 740"
   ]
  },
  {
   "cell_type": "markdown",
   "metadata": {},
   "source": [
    "##Third stack model: Model 3 (Extra Trees) + output features of all the 9 models"
   ]
  },
  {
   "cell_type": "code",
   "execution_count": 51,
   "metadata": {
    "collapsed": false
   },
   "outputs": [
    {
     "name": "stdout",
     "output_type": "stream",
     "text": [
      "(90, 13) (60, 13)\n"
     ]
    }
   ],
   "source": [
    "#Concatenating features + train/test dataset\n",
    "xgtrain3 = np.hstack((xgtrain, train_features))\n",
    "xgtest3  = np.hstack((xgtest, test_features))\n",
    "\n",
    "print xgtrain3.shape, xgtest3.shape"
   ]
  },
  {
   "cell_type": "code",
   "execution_count": 52,
   "metadata": {
    "collapsed": false
   },
   "outputs": [
    {
     "name": "stderr",
     "output_type": "stream",
     "text": [
      "[Parallel(n_jobs=6)]: Done   1 out of   2 | elapsed:    0.0s remaining:    0.0s\n",
      "[Parallel(n_jobs=6)]: Done 750 out of 750 | elapsed:    0.5s finished\n",
      "[Parallel(n_jobs=6)]: Done   1 out of  11 | elapsed:    0.0s remaining:    0.0s\n",
      "[Parallel(n_jobs=6)]: Done 750 out of 750 | elapsed:    0.4s finished\n"
     ]
    },
    {
     "data": {
      "text/plain": [
       "array([0, 2, 1, 2, 2, 0, 2, 1, 1, 1, 0, 0, 2, 0, 1, 1, 1, 0, 1, 0, 1, 2, 1,\n",
       "       0, 0, 1, 2, 0, 1, 0, 2, 1, 0, 1, 0, 1, 1, 0, 2, 0, 2, 0, 1, 0, 0, 2,\n",
       "       0, 2, 0, 2, 0, 2, 2, 0, 2, 0, 0, 2, 2, 1])"
      ]
     },
     "execution_count": 52,
     "metadata": {},
     "output_type": "execute_result"
    }
   ],
   "source": [
    "model_15_et = ExtraTreesRegressor(n_estimators=750, max_depth=8, oob_score=True, n_jobs=6, random_state=123, verbose=1, bootstrap=True)\n",
    "model_15_et.fit(xgtrain3, label_pv)\n",
    "model_15_predict = model_15_et.predict(xgtest3)\n",
    "\n",
    "model_15_predict = np.array([int(round(item)) for item in model_15_predict])\n",
    "model_15_predict"
   ]
  },
  {
   "cell_type": "code",
   "execution_count": 53,
   "metadata": {
    "collapsed": false
   },
   "outputs": [
    {
     "name": "stdout",
     "output_type": "stream",
     "text": [
      "2\n"
     ]
    }
   ],
   "source": [
    "print(np.sum(model_15_predict!=test_target))"
   ]
  },
  {
   "cell_type": "code",
   "execution_count": null,
   "metadata": {
    "collapsed": true
   },
   "outputs": [],
   "source": [
    "#rmse 693"
   ]
  },
  {
   "cell_type": "markdown",
   "metadata": {},
   "source": [
    "##Fourth stack model: Ridge"
   ]
  },
  {
   "cell_type": "code",
   "execution_count": 54,
   "metadata": {
    "collapsed": false
   },
   "outputs": [
    {
     "data": {
      "text/plain": [
       "array([0, 2, 1, 2, 2, 0, 2, 1, 1, 1, 0, 0, 2, 0, 1, 1, 1, 0, 1, 0, 1, 2, 1,\n",
       "       0, 0, 1, 2, 0, 1, 0, 2, 1, 0, 1, 0, 1, 1, 0, 2, 0, 2, 0, 1, 0, 0, 2,\n",
       "       0, 3, 0, 2, 0, 2, 2, 0, 2, 0, 0, 2, 2, 1])"
      ]
     },
     "execution_count": 54,
     "metadata": {},
     "output_type": "execute_result"
    }
   ],
   "source": [
    "model_16_ridge = linear_model.Ridge(alpha=0.01)\n",
    "model_16_ridge.fit(xgtrain3, label_pv)\n",
    "model_16_predict = model_16_ridge.predict(xgtest3)\n",
    "model_16_predict[model_16_predict<0] = 0\n",
    "\n",
    "model_16_predict = np.array([int(round(item)) for item in model_16_predict])\n",
    "model_16_predict"
   ]
  },
  {
   "cell_type": "code",
   "execution_count": 55,
   "metadata": {
    "collapsed": false
   },
   "outputs": [
    {
     "name": "stdout",
     "output_type": "stream",
     "text": [
      "2\n"
     ]
    }
   ],
   "source": [
    "print(np.sum(model_16_predict!=test_target))"
   ]
  },
  {
   "cell_type": "code",
   "execution_count": null,
   "metadata": {
    "collapsed": true
   },
   "outputs": [],
   "source": [
    "#rmse 740"
   ]
  }
 ],
 "metadata": {
  "kernelspec": {
   "display_name": "Python 2",
   "language": "python",
   "name": "python2"
  },
  "language_info": {
   "codemirror_mode": {
    "name": "ipython",
    "version": 2
   },
   "file_extension": ".py",
   "mimetype": "text/x-python",
   "name": "python",
   "nbconvert_exporter": "python",
   "pygments_lexer": "ipython2",
   "version": "2.7.9"
  }
 },
 "nbformat": 4,
 "nbformat_minor": 0
}
